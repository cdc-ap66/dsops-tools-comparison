{
 "cells": [
  {
   "cell_type": "markdown",
   "metadata": {},
   "source": [
    "## Compartmental Model Demo\n",
    "\n",
    "This demo includes:\n",
    "\n",
    "- The creation of a simple data model for COVID-19 vaccination data for the entire US\n",
    "- The initialization of a simple SEIR model which takes the vax data model as an input\n",
    "- A demonstration of the saving of the data and models into local storage"
   ]
  },
  {
   "cell_type": "markdown",
   "metadata": {},
   "source": [
    "### Vaccination Data Model\n",
    "\n",
    "Here, I use load some transformed data from the COVID-19 vaccination trends dataset and create a simple\n",
    "data model where a vaccination fraction for the US can be produced at day *t* from a starting date using\n",
    "linear interpolation."
   ]
  },
  {
   "cell_type": "code",
   "execution_count": null,
   "metadata": {},
   "outputs": [],
   "source": [
    "import pandas as pd\n",
    "from io import BytesIO\n",
    "from matplotlib import pyplot as pl\n",
    "import matplotlib.dates as mdates\n",
    "import os\n",
    "\n",
    "os.makedirs('data', exist_ok=True)\n",
    "os.makedirs('models', exist_ok=True)"
   ]
  },
  {
   "cell_type": "code",
   "execution_count": null,
   "metadata": {},
   "outputs": [],
   "source": [
    "# load the vaccination data\n",
    "df = pd.read_parquet('data/covid19vax_trends_us.parquet')\n",
    "df.head()"
   ]
  },
  {
   "cell_type": "code",
   "execution_count": null,
   "metadata": {},
   "outputs": [],
   "source": [
    "pl.figure(dpi=100, figsize=(8, 4))\n",
    "pl.plot(df.date, df.vax_frac, 'k.', alpha=0.1)\n",
    "ax = pl.gca()\n",
    "ax.xaxis.set_major_locator(mdates.MonthLocator(bymonth=(1, 7)))\n",
    "ax.xaxis.set_minor_locator(mdates.MonthLocator())\n",
    "pl.xlabel('date')\n",
    "pl.ylabel(\"population vaccination fraction [US]\")\n",
    "pl.grid(ls='--')\n",
    "pl.show()"
   ]
  },
  {
   "cell_type": "markdown",
   "metadata": {},
   "source": [
    "### Creating Data Interpolation Model\n",
    "\n",
    "Now that the data is loaded, we need to create a model so fractional vaccination counts can be\n",
    "computed for smooth simulation with our compartmental model."
   ]
  },
  {
   "cell_type": "code",
   "execution_count": null,
   "metadata": {},
   "outputs": [],
   "source": [
    "import datetime\n",
    "from scipy.interpolate import interp1d\n",
    "import pickle"
   ]
  },
  {
   "cell_type": "code",
   "execution_count": null,
   "metadata": {},
   "outputs": [],
   "source": [
    "class VaxTrends:\n",
    "    def __init__(self, start_date: str):\n",
    "        df = pd.read_parquet('data/covid19vax_trends_us.parquet')\n",
    "        df.date = pd.to_datetime(df.date).dt.date\n",
    "        self.start_date = datetime.datetime.strptime(start_date, '%Y-%m-%d').date()\n",
    "        self.dates = df.date.to_list()\n",
    "        self.vax_frax = df.vax_frac.to_list()\n",
    "        self.days = [i.days for i in (df.date - self.start_date).to_list()]\n",
    "        self.function = interp1d(self.days, self.vax_frax, kind='linear') \n",
    "\n",
    "    def __call__(self, t: float):\n",
    "        if t < max(self.days):\n",
    "            return float(self.function(t))\n",
    "        else:\n",
    "            return float(self.vax_frax[-1])\n",
    "        \n",
    "    def save(self, filename: str):\n",
    "        with open(filename, 'wb') as f:\n",
    "            pickle.dump(self, f)\n",
    "            \n",
    "        "
   ]
  },
  {
   "cell_type": "code",
   "execution_count": null,
   "metadata": {},
   "outputs": [],
   "source": [
    "v = VaxTrends('2021-01-01')"
   ]
  },
  {
   "cell_type": "code",
   "execution_count": null,
   "metadata": {},
   "outputs": [],
   "source": [
    "v.save('models/vax_trends.pkl') # save the object to a pickle file"
   ]
  },
  {
   "cell_type": "code",
   "execution_count": null,
   "metadata": {},
   "outputs": [],
   "source": [
    "# load the object from the pickle file\n",
    "with open('models/vax_trends.pkl', 'rb') as f:\n",
    "    v_loaded = pickle.load(f)"
   ]
  },
  {
   "cell_type": "code",
   "execution_count": null,
   "metadata": {},
   "outputs": [],
   "source": [
    "v_loaded(50.2)"
   ]
  },
  {
   "cell_type": "markdown",
   "metadata": {},
   "source": [
    "### SEIR Model Experiment\n",
    "\n",
    "Now that we have a simple data function that can be used to return the fraction of vaccinated population\n",
    "as a function of number of days since simulation start date, lets create a simulation that assumes the\n",
    "same start date and uses this vaccination data in producing SEIR results."
   ]
  },
  {
   "cell_type": "code",
   "execution_count": null,
   "metadata": {},
   "outputs": [],
   "source": [
    "from seir_model import SEIRModel\n",
    "import matplotlib.pyplot as plt"
   ]
  },
  {
   "cell_type": "code",
   "execution_count": null,
   "metadata": {},
   "outputs": [],
   "source": [
    "# Create a SEIR model with default parameters\n",
    "model = SEIRModel(\n",
    "    population_size=1.0,   # Normalized population size\n",
    "    beta=0.2,              # Infection rate\n",
    "    sigma=0.2,             # Incubation rate (1/incubation period)\n",
    "    gamma=0.05,             # Recovery rate (1/infectious period)\n",
    "    vax_fraction=v_loaded, # Vaccination fraction\n",
    "    vax_eff=0.5,           # Vaccine efficacy\n",
    "    version=\"0.0.1\"        # Model version\n",
    ")\n",
    "\n",
    "# Display model information\n",
    "print(model)"
   ]
  },
  {
   "cell_type": "code",
   "execution_count": null,
   "metadata": {},
   "outputs": [],
   "source": [
    "# Initial conditions: 99% susceptible, 0% exposed, 1% infectious, 0% recovered\n",
    "initial_conditions = [0.90, 0.02, 0.02, 0.06]\n",
    "\n",
    "# Simulate for 100 time units (days) with 1000 time points\n",
    "t_span = (0, 120)\n",
    "t_points = 500\n",
    "t, y = model.simulate(t_span, initial_conditions, t_points)\n",
    "\n",
    "# Extract the S, E, I, R states from the solution\n",
    "S = y[0]\n",
    "E = y[1]\n",
    "I = y[2] # noqa\n",
    "R = y[3]\n",
    "\n",
    "# Print the final state\n",
    "print(f\"Final state (t={t[-1]}):\\n\")\n",
    "print(f\"S: {S[-1]:.4f} (Susceptible)\")\n",
    "print(f\"E: {E[-1]:.4f} (Exposed)\")\n",
    "print(f\"I: {I[-1]:.4f} (Infectious)\")\n",
    "print(f\"R: {R[-1]:.4f} (Recovered)\")\n",
    "print(f\"Sum: {S[-1] + E[-1] + I[-1] + R[-1]:.4f} (Total)\")"
   ]
  },
  {
   "cell_type": "code",
   "execution_count": null,
   "metadata": {},
   "outputs": [],
   "source": [
    "# Set up the figure and axis\n",
    "plt.figure(dpi=100, figsize=(8, 4))\n",
    "\n",
    "# Plot the S, E, I, R states\n",
    "plt.plot(t, [v_loaded(i) for i in t], 'k--', label='Vaccination Fraction', alpha=0.5)\n",
    "plt.plot(t, S, 'b-', label='Susceptible')\n",
    "plt.plot(t, E, 'c-', label='Exposed')\n",
    "plt.plot(t, I, 'r-', label='Infectious')\n",
    "plt.plot(t, R, 'm-', label='Recovered')\n",
    "\n",
    "plt.grid(ls='--')\n",
    "\n",
    "plt.xlabel('Time')\n",
    "plt.ylabel('Population Fraction')\n",
    "plt.title('SEIR Model Simulation')\n",
    "\n",
    "plt.legend(fontsize=9)\n",
    "\n",
    "plt.show()"
   ]
  },
  {
   "cell_type": "code",
   "execution_count": null,
   "metadata": {},
   "outputs": [],
   "source": [
    "model.save('models/seir_model.pkl') # save the model to a pickle file"
   ]
  },
  {
   "cell_type": "markdown",
   "metadata": {},
   "source": [
    "### Load a Saved Model"
   ]
  },
  {
   "cell_type": "code",
   "execution_count": null,
   "metadata": {},
   "outputs": [],
   "source": [
    "with open('models/seir_model.pkl', 'rb') as f:\n",
    "    model_loaded = pickle.load(f)\n",
    "t, y = model_loaded.simulate(t_span, initial_conditions, t_points)\n",
    "\n",
    "# Extract the S, E, I, R states from the solution\n",
    "S = y[0]\n",
    "E = y[1]\n",
    "I = y[2] # noqa\n",
    "R = y[3]\n",
    "\n",
    "# Print the final state\n",
    "print(f\"Final state (t={t[-1]}):\\n\")\n",
    "print(f\"S: {S[-1]:.4f} (Susceptible)\")\n",
    "print(f\"E: {E[-1]:.4f} (Exposed)\")\n",
    "print(f\"I: {I[-1]:.4f} (Infectious)\")\n",
    "print(f\"R: {R[-1]:.4f} (Recovered)\")\n",
    "print(f\"Sum: {S[-1] + E[-1] + I[-1] + R[-1]:.4f} (Total)\")\n",
    "# Set up the figure and axis\n",
    "plt.figure(dpi=100, figsize=(8, 4))\n",
    "\n",
    "# Plot the S, E, I, R states\n",
    "plt.plot(t, [model_loaded.vax_fraction(i) for i in t], 'k--', label='Vaccination Fraction', alpha=0.5)\n",
    "plt.plot(t, S, 'b-', label='Susceptible')\n",
    "plt.plot(t, E, 'c-', label='Exposed')\n",
    "plt.plot(t, I, 'r-', label='Infectious')\n",
    "plt.plot(t, R, 'm-', label='Recovered')\n",
    "\n",
    "plt.grid(ls='--')\n",
    "\n",
    "plt.xlabel('Time')\n",
    "plt.ylabel('Population Fraction')\n",
    "plt.title('SEIR Model Simulation')\n",
    "\n",
    "plt.legend(fontsize=9)\n",
    "\n",
    "plt.show()"
   ]
  },
  {
   "cell_type": "code",
   "execution_count": null,
   "metadata": {},
   "outputs": [],
   "source": []
  }
 ],
 "metadata": {
  "kernelspec": {
   "display_name": "venv",
   "language": "python",
   "name": "python3"
  },
  "language_info": {
   "codemirror_mode": {
    "name": "ipython",
    "version": 3
   },
   "file_extension": ".py",
   "mimetype": "text/x-python",
   "name": "python",
   "nbconvert_exporter": "python",
   "pygments_lexer": "ipython3",
   "version": "3.10.12"
  }
 },
 "nbformat": 4,
 "nbformat_minor": 2
}
