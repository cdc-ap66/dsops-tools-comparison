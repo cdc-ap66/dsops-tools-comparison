{
 "cells": [
  {
   "cell_type": "markdown",
   "metadata": {},
   "source": [
    "# SEIR Model Metaflow Demo\n",
    "\n",
    "This notebook demonstrates how to use Metaflow to experiment with different parameter settings for a SEIR (Susceptible-Exposed-Infectious-Recovered) compartmental model.\n",
    "\n",
    "## What is Metaflow?\n",
    "\n",
    "Metaflow is a framework that helps data scientists build and manage real-life data science projects. It was originally developed at Netflix to streamline the development, deployment, and operations of data science projects.\n",
    "\n",
    "Key features of Metaflow:\n",
    "- **Local prototyping to production**: Develop locally, then scale to production seamlessly\n",
    "- **Parallel execution**: Run multiple experiments in parallel\n",
    "- **Data versioning**: Track data and results across runs\n",
    "- **Parameter tuning**: Easily experiment with different parameters\n",
    "- **Dependency management**: Specify dependencies for each step\n",
    "\n",
    "## Workflow Overview\n",
    "\n",
    "Our Metaflow workflow for SEIR model experimentation includes the following steps:\n",
    "\n",
    "1. **Start**: Initialize the workflow and create output directories\n",
    "2. **Load Data**: Load and preprocess COVID-19 vaccination data\n",
    "3. **Create Vaccination Model**: Create a model for vaccination rate interpolation\n",
    "4. **Run Experiments**: Run multiple SEIR model experiments with different parameters in parallel\n",
    "5. **Join Results**: Collect and compare results from all experiments\n",
    "6. **Visualize Comparison**: Create visualizations comparing the results\n",
    "7. **End**: Summarize the results and provide access to the best model"
   ]
  },
  {
   "cell_type": "markdown",
   "metadata": {},
   "source": [
    "## Examining the Metaflow Workflow\n",
    "\n",
    "Let's look at the Metaflow workflow we've defined in `seir_metaflow_demo.py`:"
   ]
  },
  {
   "cell_type": "code",
   "execution_count": null,
   "metadata": {},
   "outputs": [],
   "source": [
    "# Display the workflow code\n",
    "!cat seir_metaflow_demo.py"
   ]
  },
  {
   "cell_type": "markdown",
   "metadata": {},
   "source": [
    "## Understanding the Workflow Structure\n",
    "\n",
    "The workflow is structured as a directed acyclic graph (DAG) of steps. Let's visualize this structure:"
   ]
  },
  {
   "cell_type": "code",
   "execution_count": null,
   "metadata": {},
   "outputs": [],
   "source": [
    "# Show the workflow DAG\n",
    "!python seir_metaflow_demo.py show"
   ]
  },
  {
   "cell_type": "markdown",
   "metadata": {},
   "source": [
    "## Running the Workflow with Default Parameters\n",
    "\n",
    "Now, let's run the workflow with the default parameters:"
   ]
  },
  {
   "cell_type": "code",
   "execution_count": null,
   "metadata": {},
   "outputs": [],
   "source": [
    "# Run the workflow\n",
    "!python seir_metaflow_demo.py run"
   ]
  },
  {
   "cell_type": "markdown",
   "metadata": {},
   "source": [
    "## Customizing Parameters\n",
    "\n",
    "One of the key advantages of Metaflow is the ability to easily customize parameters. Let's run the workflow with different parameters:"
   ]
  },
  {
   "cell_type": "code",
   "execution_count": null,
   "metadata": {},
   "outputs": [],
   "source": [
    "# Run with custom parameters\n",
    "!python seir_metaflow_demo.py run \\\n",
    "    --start_date 2021-02-01 \\\n",
    "    --simulation_days 150 \\\n",
    "    --initial_s 0.85 \\\n",
    "    --initial_e 0.05 \\\n",
    "    --initial_i 0.05 \\\n",
    "    --initial_r 0.05"
   ]
  },
  {
   "cell_type": "markdown",
   "metadata": {},
   "source": [
    "## Accessing Results from Previous Runs\n",
    "\n",
    "Metaflow makes it easy to access results from previous runs. Let's see how to do this:"
   ]
  },
  {
   "cell_type": "code",
   "execution_count": null,
   "metadata": {},
   "outputs": [],
   "source": [
    "# Import Metaflow\n",
    "from metaflow import Flow, get_metadata\n",
    "import pandas as pd\n",
    "import matplotlib.pyplot as plt\n",
    "\n",
    "# Set metadata provider\n",
    "get_metadata()"
   ]
  },
  {
   "cell_type": "code",
   "execution_count": null,
   "metadata": {},
   "outputs": [],
   "source": [
    "# List all runs\n",
    "runs = Flow('SEIRModelFlow').runs()\n",
    "print(f\"Found {len([*runs])} runs:\")\n",
    "for run in runs:\n",
    "    print(f\"Run ID: {run.id}, Created: {run.created_at}\")"
   ]
  },
  {
   "cell_type": "code",
   "execution_count": null,
   "metadata": {},
   "outputs": [],
   "source": [
    "# Get the latest successful run\n",
    "latest_run = Flow('SEIRModelFlow').latest_successful_run\n",
    "print(f\"Latest successful run: {latest_run.id}\")"
   ]
  },
  {
   "cell_type": "code",
   "execution_count": null,
   "metadata": {},
   "outputs": [],
   "source": [
    "# Access the comparison DataFrame from the latest run\n",
    "comparison_df = latest_run.data.comparison_df\n",
    "comparison_df"
   ]
  },
  {
   "cell_type": "markdown",
   "metadata": {},
   "source": [
    "## Visualizing Results\n",
    "\n",
    "Let's visualize the results from the latest run:"
   ]
  },
  {
   "cell_type": "code",
   "execution_count": null,
   "metadata": {},
   "outputs": [],
   "source": [
    "# Plot peak infectious values\n",
    "plt.figure(figsize=(10, 6))\n",
    "df_sorted = comparison_df.sort_values(by=\"peak_infectious\")\n",
    "plt.bar(df_sorted[\"name\"], df_sorted[\"peak_infectious\"])\n",
    "plt.xlabel(\"Experiment\")\n",
    "plt.ylabel(\"Peak Infectious Fraction\")\n",
    "plt.title(\"Comparison of Peak Infectious Values Across Experiments\")\n",
    "plt.xticks(rotation=45, ha=\"right\")\n",
    "plt.tight_layout()\n",
    "plt.show()"
   ]
  },
  {
   "cell_type": "markdown",
   "metadata": {},
   "source": [
    "## Comparing Multiple Runs\n",
    "\n",
    "One of the powerful features of Metaflow is the ability to compare results across multiple runs. Let's see how to do this:"
   ]
  },
  {
   "cell_type": "code",
   "execution_count": null,
   "metadata": {},
   "outputs": [],
   "source": [
    "# Get all successful runs\n",
    "successful_runs = [run for run in Flow('SEIRModelFlow').runs() if run.successful]\n",
    "\n",
    "# Create a DataFrame to compare runs\n",
    "run_comparison = []\n",
    "for run in successful_runs:\n",
    "    # Get the best model from each run\n",
    "    best_model_name = run.data.best_model_name\n",
    "    \n",
    "    # Find the corresponding row in the comparison DataFrame\n",
    "    best_model_data = run.data.comparison_df[run.data.comparison_df['name'] == best_model_name].iloc[0]\n",
    "    \n",
    "    run_comparison.append({\n",
    "        'run_id': run.id,\n",
    "        'created_at': run.created_at,\n",
    "        'best_model': best_model_name,\n",
    "        'peak_infectious': best_model_data['peak_infectious'],\n",
    "        'total_infected': best_model_data['total_infected']\n",
    "    })\n",
    "\n",
    "run_comparison_df = pd.DataFrame(run_comparison)\n",
    "run_comparison_df.sort_values(by='created_at', ascending=False)"
   ]
  },
  {
   "cell_type": "markdown",
   "metadata": {},
   "source": [
    "## Creating a Custom Experiment\n",
    "\n",
    "Let's modify the workflow to add a custom experiment with different parameters:"
   ]
  },
  {
   "cell_type": "code",
   "execution_count": null,
   "metadata": {},
   "outputs": [],
   "source": [
    "%%writefile custom_seir_metaflow.py\n",
    "from seir_metaflow_demo import SEIRModelFlow as BaseFlow\n",
    "from metaflow import FlowSpec, step, Parameter\n",
    "\n",
    "class CustomSEIRModelFlow(BaseFlow):\n",
    "    \"\"\"\n",
    "    A custom flow that extends the base SEIR model flow with additional experiments.\n",
    "    \"\"\"\n",
    "    \n",
    "    @step\n",
    "    def create_vax_model(self):\n",
    "        \"\"\"\n",
    "        Create a model for vaccination rate interpolation and define experiments.\n",
    "        \"\"\"\n",
    "        # Call the parent method to create the vaccination model and base experiments\n",
    "        super().create_vax_model()\n",
    "        \n",
    "        # Add custom experiments\n",
    "        custom_experiments = [\n",
    "            {\n",
    "                \"name\": \"Custom_Low_Beta_High_Gamma\",\n",
    "                \"beta\": 0.15,\n",
    "                \"sigma\": 0.2,\n",
    "                \"gamma\": 0.25,\n",
    "                \"vax_eff\": 0.8\n",
    "            },\n",
    "            {\n",
    "                \"name\": \"Custom_High_Beta_Low_Gamma\",\n",
    "                \"beta\": 0.6,\n",
    "                \"sigma\": 0.2,\n",
    "                \"gamma\": 0.05,\n",
    "                \"vax_eff\": 0.8\n",
    "            }\n",
    "        ]\n",
    "        \n",
    "        # Extend the experiment parameters list\n",
    "        self.experiment_params.extend(custom_experiments)\n",
    "        \n",
    "        # Continue to the next step\n",
    "        self.next(self.run_experiment, foreach='experiment_params')\n",
    "\n",
    "if __name__ == \"__main__\":\n",
    "    CustomSEIRModelFlow()"
   ]
  },
  {
   "cell_type": "code",
   "execution_count": null,
   "metadata": {},
   "outputs": [],
   "source": [
    "# Run the custom workflow\n",
    "!python custom_seir_metaflow.py run"
   ]
  },
  {
   "cell_type": "markdown",
   "metadata": {},
   "source": [
    "## Deploying to Production\n",
    "\n",
    "One of the key advantages of Metaflow is the ability to seamlessly transition from local development to production. Here's how you might deploy this workflow to production:\n",
    "\n",
    "1. **Configure a remote metadata service**: Set up a metadata service to track runs across environments\n",
    "2. **Configure compute resources**: Specify compute resources for each step\n",
    "3. **Schedule the workflow**: Set up a scheduler to run the workflow on a regular basis\n",
    "\n",
    "Here's an example of how to configure the workflow for production:"
   ]
  },
  {
   "cell_type": "code",
   "execution_count": null,
   "metadata": {},
   "outputs": [],
   "source": [
    "%%writefile production_seir_metaflow.py\n",
    "from seir_metaflow_demo import SEIRModelFlow\n",
    "from metaflow import FlowSpec, step, batch, schedule, resources, retry\n",
    "\n",
    "# Uncomment to schedule the workflow to run daily\n",
    "# @schedule(daily=True)\n",
    "class ProductionSEIRModelFlow(SEIRModelFlow):\n",
    "    \"\"\"\n",
    "    A production version of the SEIR model flow with resource specifications and error handling.\n",
    "    \"\"\"\n",
    "    \n",
    "    @resources(memory=1000, cpu=1)\n",
    "    @retry(times=3)\n",
    "    @step\n",
    "    def start(self):\n",
    "        super().start()\n",
    "    \n",
    "    @resources(memory=2000, cpu=2)\n",
    "    @retry(times=3)\n",
    "    @step\n",
    "    def load_data(self):\n",
    "        super().load_data()\n",
    "    \n",
    "    @resources(memory=1000, cpu=1)\n",
    "    @step\n",
    "    def create_vax_model(self):\n",
    "        super().create_vax_model()\n",
    "    \n",
    "    @batch(cpu=2, memory=4000)\n",
    "    @retry(times=3)\n",
    "    @step\n",
    "    def run_experiment(self):\n",
    "        super().run_experiment()\n",
    "    \n",
    "    @resources(memory=4000, cpu=2)\n",
    "    @step\n",
    "    def join_results(self, inputs):\n",
    "        super().join_results(inputs)\n",
    "    \n",
    "    @resources(memory=2000, cpu=1)\n",
    "    @step\n",
    "    def visualize_comparison(self):\n",
    "        super().visualize_comparison()\n",
    "    \n",
    "    @step\n",
    "    def end(self):\n",
    "        super().end()\n",
    "\n",
    "if __name__ == \"__main__\":\n",
    "    ProductionSEIRModelFlow()"
   ]
  },
  {
   "cell_type": "markdown",
   "metadata": {},
   "source": [
    "## Conclusion\n",
    "\n",
    "In this notebook, we've demonstrated how to use Metaflow to experiment with different parameter settings for a SEIR compartmental model. We've shown how to:\n",
    "\n",
    "1. Define a workflow with multiple steps\n",
    "2. Run experiments in parallel\n",
    "3. Compare results across experiments\n",
    "4. Access and visualize results from previous runs\n",
    "5. Extend the workflow with custom experiments\n",
    "6. Configure the workflow for production\n",
    "\n",
    "Metaflow provides a powerful framework for data scientists to experiment with models and parameters, while also providing a path to production deployment. This makes it an excellent choice for modeling workflows like the SEIR model demonstrated here."
   ]
  }
 ],
 "metadata": {
  "kernelspec": {
   "display_name": "venv",
   "language": "python",
   "name": "python3"
  },
  "language_info": {
   "codemirror_mode": {
    "name": "ipython",
    "version": 3
   },
   "file_extension": ".py",
   "mimetype": "text/x-python",
   "name": "python",
   "nbconvert_exporter": "python",
   "pygments_lexer": "ipython3",
   "version": "3.10.12"
  }
 },
 "nbformat": 4,
 "nbformat_minor": 4
}
